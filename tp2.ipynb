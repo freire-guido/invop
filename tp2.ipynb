{
 "cells": [
  {
   "cell_type": "code",
   "execution_count": 1,
   "metadata": {},
   "outputs": [],
   "source": [
    "from ortools.linear_solver import pywraplp\n",
    "import numpy as np"
   ]
  },
  {
   "cell_type": "code",
   "execution_count": 2,
   "metadata": {},
   "outputs": [],
   "source": [
    "def modelo_master(M, R, Q, P, scores, m, r, q, p, N, model=1):\n",
    "    \"\"\"\n",
    "    pre:\n",
    "        ya están ordenados los chabones por score decreciente\n",
    "    \"\"\"\n",
    "    \n",
    "    K = len(scores)\n",
    "    \n",
    "    solver = pywraplp.Solver.CreateSolver('SCIP')\n",
    "    if not solver:\n",
    "        return None\n",
    "\n",
    "    # Variables\n",
    "    x = {}\n",
    "    for i in range(K):\n",
    "        x[i] = solver.BoolVar(f'x[{i}]')\n",
    "\n",
    "    # Restricciones\n",
    "    solver.Add(solver.Sum([x[i] for i in range(K)]) == N)\n",
    "    solver.Add(solver.Sum([x[i] for i in M.nonzero()[0]]) >= m * N/100)\n",
    "    solver.Add(solver.Sum([x[i] for i in R.nonzero()[0]]) >= r * N/100)\n",
    "    solver.Add(solver.Sum([x[i] for i in Q.nonzero()[0]]) >= q * N/100)\n",
    "    solver.Add(solver.Sum([x[i] for i in P.nonzero()[0]]) >= p * N/100)\n",
    "\n",
    "    if model == 1:\n",
    "        solver.Maximize(solver.Sum([scores[i] * x[i] for i in range(K)]))\n",
    "    elif model == 2:\n",
    "        solver.Minimize(solver.Sum([ i * x[i] for i in range(K)]))\n",
    "    elif model ==3:\n",
    "        y = solver.IntVar(0, K, 'y')\n",
    "\n",
    "        for i in range(K):\n",
    "            solver.Add(i * x[i] <= y)\n",
    "\n",
    "        # Objective Function\n",
    "        solver.Minimize(y + 0.0002 * solver.Sum([ i * x[i] for i in range(K)]))\n",
    "\n",
    "    return solver, x"
   ]
  },
  {
   "cell_type": "code",
   "execution_count": 3,
   "metadata": {},
   "outputs": [],
   "source": [
    "# Total\n",
    "K = 100\n",
    "N = 50\n",
    "# Porcentajes de admisión\n",
    "m = 30\n",
    "r = 60\n",
    "q = 80\n",
    "p = 0"
   ]
  },
  {
   "cell_type": "code",
   "execution_count": 4,
   "metadata": {},
   "outputs": [],
   "source": [
    "def generar_instancia(K, m_pob = 0.5, r_pob = 0.3, q_pob = 0.7, p_pob = 0.2):\n",
    "    M = np.random.uniform(0, 1, K) < m_pob\n",
    "    R = np.random.uniform(0, 1, K) < r_pob\n",
    "    Q = np.random.uniform(0, 1, K) < q_pob\n",
    "    P = np.random.uniform(0, 1, K) < p_pob\n",
    "    scores = np.random.rand(K)*100  # <- modelo lineal\n",
    "    scores = np.sort(scores)[::-1]\n",
    "    return M, R, Q, P, scores"
   ]
  },
  {
   "cell_type": "code",
   "execution_count": 5,
   "metadata": {},
   "outputs": [],
   "source": [
    "generadas = generar_instancia(K)"
   ]
  },
  {
   "cell_type": "code",
   "execution_count": 6,
   "metadata": {},
   "outputs": [],
   "source": [
    "solver, x = modelo_master(*generadas, m, r, q, p, N, 3 )"
   ]
  },
  {
   "cell_type": "code",
   "execution_count": 7,
   "metadata": {},
   "outputs": [
    {
     "name": "stdout",
     "output_type": "stream",
     "text": [
      "Solving with SCIP 8.0.4 [LP solver: Glop 9.8]\n",
      "Solution:\n",
      "Objective value = 88.3342\n",
      "x[0] = 1.0\n",
      "x[1] = 1.0\n",
      "x[2] = 1.0\n",
      "x[3] = 1.0\n",
      "x[4] = 1.0\n",
      "x[5] = 1.0\n",
      "x[6] = 1.0\n",
      "x[7] = 1.0\n",
      "x[8] = 1.0\n",
      "x[9] = 1.0\n",
      "x[10] = 1.0\n",
      "x[11] = 1.0\n",
      "x[12] = 1.0\n",
      "x[13] = 1.0\n",
      "x[14] = 1.0\n",
      "x[15] = 1.0\n",
      "x[16] = 1.0\n",
      "x[17] = 1.0\n",
      "x[18] = 1.0\n",
      "x[19] = 1.0\n",
      "x[20] = 1.0\n",
      "x[21] = 1.0\n",
      "x[22] = 1.0\n",
      "x[23] = 1.0\n",
      "x[24] = 1.0\n",
      "x[25] = 1.0\n",
      "x[26] = 1.0\n",
      "x[27] = 1.0\n",
      "x[28] = 1.0\n",
      "x[32] = 1.0\n",
      "x[36] = 1.0\n",
      "x[37] = 1.0\n",
      "x[41] = 1.0\n",
      "x[43] = 1.0\n",
      "x[49] = 1.0\n",
      "x[53] = 1.0\n",
      "x[57] = 1.0\n",
      "x[58] = 1.0\n",
      "x[61] = 1.0\n",
      "x[62] = 1.0\n",
      "x[63] = 1.0\n",
      "x[64] = 1.0\n",
      "x[66] = 1.0\n",
      "x[67] = 1.0\n",
      "x[73] = 1.0\n",
      "x[74] = 1.0\n",
      "x[78] = 1.0\n",
      "x[79] = 1.0\n",
      "x[84] = 1.0\n",
      "x[88] = 1.0\n",
      "\n",
      "Advanced usage:\n",
      "Problem solved in 178 milliseconds\n",
      "Problem solved in 122 iterations\n",
      "Problem solved in 1 branch-and-bound nodes\n"
     ]
    }
   ],
   "source": [
    "print(f\"Solving with {solver.SolverVersion()}\")\n",
    "status = solver.Solve()\n",
    "\n",
    "if status == pywraplp.Solver.OPTIMAL:\n",
    "    print(\"Solution:\")\n",
    "    print(\"Objective value =\", solver.Objective().Value())\n",
    "    for t in range(K):\n",
    "        if x[t].solution_value() != 0:\n",
    "            print(f\"x[{t}] =\", x[t].solution_value())\n",
    "else:\n",
    "    print(\"The problem does not have an optimal solution.\")\n",
    "\n",
    "print(\"\\nAdvanced usage:\")\n",
    "print(f\"Problem solved in {solver.wall_time():d} milliseconds\")\n",
    "print(f\"Problem solved in {solver.iterations():d} iterations\")\n",
    "print(f\"Problem solved in {solver.nodes():d} branch-and-bound nodes\")"
   ]
  },
  {
   "cell_type": "code",
   "execution_count": null,
   "metadata": {},
   "outputs": [],
   "source": []
  }
 ],
 "metadata": {
  "kernelspec": {
   "display_name": "Python 3",
   "language": "python",
   "name": "python3"
  },
  "language_info": {
   "codemirror_mode": {
    "name": "ipython",
    "version": 3
   },
   "file_extension": ".py",
   "mimetype": "text/x-python",
   "name": "python",
   "nbconvert_exporter": "python",
   "pygments_lexer": "ipython3",
   "version": "3.11.7"
  }
 },
 "nbformat": 4,
 "nbformat_minor": 2
}
