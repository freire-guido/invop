{
 "cells": [
  {
   "cell_type": "code",
   "execution_count": 1,
   "metadata": {},
   "outputs": [],
   "source": [
    "from ortools.linear_solver import pywraplp\n",
    "import numpy as np"
   ]
  },
  {
   "cell_type": "code",
   "execution_count": 37,
   "metadata": {},
   "outputs": [],
   "source": [
    "def modelo_master(M, R, Q, P, scores, m, r, q, p, N, model=1):\n",
    "    \"\"\"\n",
    "    pre:\n",
    "        ya están ordenados los chabones por score decreciente\n",
    "    \"\"\"\n",
    "    \n",
    "    K = len(scores)\n",
    "    \n",
    "    solver = pywraplp.Solver.CreateSolver('SCIP')\n",
    "    if not solver:\n",
    "        return None\n",
    "\n",
    "    # Variables\n",
    "    x = {}\n",
    "    for i in range(K):\n",
    "        x[i] = solver.BoolVar(f'x[{i}]')\n",
    "\n",
    "    # Restricciones\n",
    "    solver.Add(solver.Sum([x[i] for i in range(K)]) == N)\n",
    "    solver.Add(solver.Sum([x[i] for i in M.nonzero()[0]]) >= m * N/100)\n",
    "    solver.Add(solver.Sum([x[i] for i in R.nonzero()[0]]) >= r * N/100)\n",
    "    solver.Add(solver.Sum([x[i] for i in Q.nonzero()[0]]) >= q * N/100)\n",
    "    solver.Add(solver.Sum([x[i] for i in P.nonzero()[0]]) >= p * N/100)\n",
    "\n",
    "    if model == 1:\n",
    "        solver.Maximize(solver.Sum([scores[i] * x[i] for i in range(K)]))\n",
    "    else:\n",
    "        solver.Minimize(solver.Sum([ i * x[i] for i in range(K)]))\n",
    "\n",
    "    return solver, x"
   ]
  },
  {
   "cell_type": "code",
   "execution_count": 38,
   "metadata": {},
   "outputs": [],
   "source": [
    "# Total\n",
    "K = 200\n",
    "\n",
    "# Porcentajes de admisión\n",
    "m = 30\n",
    "r = 30\n",
    "q = 20\n",
    "p = 20"
   ]
  },
  {
   "cell_type": "code",
   "execution_count": 39,
   "metadata": {},
   "outputs": [],
   "source": [
    "def generar_instancia(K, m_pob = 0.5, r_pob = 0.1, q_pob = 0.4, p_pob = 0.2):\n",
    "    M = np.random.uniform(0, 1, K) < m_pob\n",
    "    R = np.random.uniform(0, 1, K) < r_pob\n",
    "    Q = np.random.uniform(0, 1, K) < q_pob\n",
    "    P = np.random.uniform(0, 1, K) < p_pob\n",
    "    scores = np.random.rand(K)*100\n",
    "    scores = np.sort(scores)[::-1]\n",
    "    return M, R, Q, P, scores"
   ]
  },
  {
   "cell_type": "code",
   "execution_count": 40,
   "metadata": {},
   "outputs": [],
   "source": [
    "solver, x = modelo_master(*generar_instancia(K), m, r, q, p, 20, 1 )"
   ]
  },
  {
   "cell_type": "code",
   "execution_count": 41,
   "metadata": {},
   "outputs": [
    {
     "name": "stdout",
     "output_type": "stream",
     "text": [
      "Solving with Cbc 2.10.7\n",
      "Solution:\n",
      "Objective value = 1838.156988365055\n",
      "x[0] = 1.0\n",
      "x[1] = 1.0\n",
      "x[2] = 1.0\n",
      "x[3] = 1.0\n",
      "x[4] = 1.0\n",
      "x[5] = 1.0\n",
      "x[6] = 1.0\n",
      "x[7] = 1.0\n",
      "x[8] = 1.0\n",
      "x[9] = 1.0\n",
      "x[10] = 1.0\n",
      "x[11] = 1.0\n",
      "x[12] = 1.0\n",
      "x[13] = 1.0\n",
      "x[14] = 1.0\n",
      "x[15] = 1.0\n",
      "x[16] = 1.0\n",
      "x[19] = 1.0\n",
      "x[45] = 1.0\n",
      "x[53] = 1.0\n",
      "\n",
      "Advanced usage:\n",
      "Problem solved in 1500 milliseconds\n",
      "Problem solved in 0 iterations\n",
      "Problem solved in 0 branch-and-bound nodes\n"
     ]
    }
   ],
   "source": [
    "print(f\"Solving with {solver.SolverVersion()}\")\n",
    "status = solver.Solve()\n",
    "\n",
    "if status == pywraplp.Solver.OPTIMAL:\n",
    "    print(\"Solution:\")\n",
    "    print(\"Objective value =\", solver.Objective().Value())\n",
    "    for t in range(K):\n",
    "        if x[t].solution_value() != 0:\n",
    "            print(f\"x[{t}] =\", x[t].solution_value())\n",
    "else:\n",
    "    print(\"The problem does not have an optimal solution.\")\n",
    "\n",
    "print(\"\\nAdvanced usage:\")\n",
    "print(f\"Problem solved in {solver.wall_time():d} milliseconds\")\n",
    "print(f\"Problem solved in {solver.iterations():d} iterations\")\n",
    "print(f\"Problem solved in {solver.nodes():d} branch-and-bound nodes\")"
   ]
  }
 ],
 "metadata": {
  "kernelspec": {
   "display_name": "Python 3",
   "language": "python",
   "name": "python3"
  },
  "language_info": {
   "codemirror_mode": {
    "name": "ipython",
    "version": 3
   },
   "file_extension": ".py",
   "mimetype": "text/x-python",
   "name": "python",
   "nbconvert_exporter": "python",
   "pygments_lexer": "ipython3",
   "version": "3.11.7"
  }
 },
 "nbformat": 4,
 "nbformat_minor": 2
}
